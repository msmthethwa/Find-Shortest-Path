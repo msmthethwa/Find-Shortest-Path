{
 "cells": [
  {
   "cell_type": "code",
   "execution_count": 13,
   "id": "5ff2d38b-8849-44cf-8f84-b177c6a91ecc",
   "metadata": {},
   "outputs": [],
   "source": [
    "graph = {\n",
    "    'DBN':{'PMB': 89, 'RBY':112},\n",
    "    'PMB':{'DBN': 89, 'RBY': 70, 'HMT': 209},\n",
    "    'RBY':{'DBN': 112, 'PMB': 70, 'HMT': 100, 'VRT': 106},\n",
    "    'HMT':{'PMB': 209, 'RBY': 100, 'VRT': 41, 'JHB': 210},\n",
    "    'VRT':{'RBY': 106, 'HMT': 41, 'JHB': 106},\n",
    "    'JHB':{'HMT': 210, 'VRT': 106}\n",
    "}"
   ]
  },
  {
   "cell_type": "code",
   "execution_count": 14,
   "id": "3191683a-cfeb-4a23-84cc-f3bfc67c2fa0",
   "metadata": {},
   "outputs": [],
   "source": [
    "start = 'DBN'"
   ]
  },
  {
   "cell_type": "code",
   "execution_count": 15,
   "id": "7fa4e35b-4cab-45fb-b3b9-231344c6c428",
   "metadata": {},
   "outputs": [],
   "source": [
    "end = 'JHB'"
   ]
  },
  {
   "cell_type": "code",
   "execution_count": 16,
   "id": "fb577b7f-7f1b-47c7-845f-9037dc28b7b0",
   "metadata": {},
   "outputs": [],
   "source": [
    "def shortestPath(graph, start, end):\n",
    "    #Initialize distance\n",
    "    distance = {node: float ('inf') for node in graph}\n",
    "    distance[start] = 0\n",
    "    previousNode = {node: None for node in graph}\n",
    "    nodes = list(graph.keys())\n",
    "\n",
    "    while nodes:\n",
    "        #Select distance with shortest node\n",
    "        currentNode = min(nodes, key=lambda node : distance[node])\n",
    "        nodes.remove(currentNode)\n",
    "\n",
    "        #Exit when reach end node\n",
    "        if currentNode == end:\n",
    "            path = []\n",
    "            while currentNode:\n",
    "                path.insert(0, currentNode)\n",
    "                currentNode = previousNode[currentNode]\n",
    "            return path, distance[end]\n",
    "\n",
    "        #Break if shortest distance is infinity\n",
    "        if distance[currentNode] == float('inf'):\n",
    "            break\n",
    "\n",
    "        #Update distance with neighboring nodes\n",
    "        for neighbor, weight in graph[currentNode].items():\n",
    "            newDistance = distance[currentNode] + weight\n",
    "            if newDistance < distance[neighbor]:\n",
    "                distance[neighbor] = newDistance\n",
    "                previousNode[neighbor] = currentNode\n",
    "\n",
    "    return None, float('inf')"
   ]
  },
  {
   "cell_type": "code",
   "execution_count": 17,
   "id": "352e4826-cf25-4f89-a532-339fef9d960e",
   "metadata": {},
   "outputs": [],
   "source": [
    "path, distance = shortestPath(graph, start, end)"
   ]
  },
  {
   "cell_type": "code",
   "execution_count": 18,
   "id": "5e500358-9a21-442a-bc92-7d48e484959c",
   "metadata": {},
   "outputs": [
    {
     "name": "stdout",
     "output_type": "stream",
     "text": [
      "The shortest path from DBN to JHB is ['DBN', 'RBY', 'VRT', 'JHB'] with cost of R324\n"
     ]
    }
   ],
   "source": [
    "print(f\"The shortest path from {start} to {end} is {path} with cost of R{distance}\")"
   ]
  },
  {
   "cell_type": "code",
   "execution_count": null,
   "id": "64cfa979-b97d-43cb-8ab3-2ada60e63800",
   "metadata": {},
   "outputs": [],
   "source": []
  }
 ],
 "metadata": {
  "kernelspec": {
   "display_name": "Python 3 (ipykernel)",
   "language": "python",
   "name": "python3"
  },
  "language_info": {
   "codemirror_mode": {
    "name": "ipython",
    "version": 3
   },
   "file_extension": ".py",
   "mimetype": "text/x-python",
   "name": "python",
   "nbconvert_exporter": "python",
   "pygments_lexer": "ipython3",
   "version": "3.12.3"
  }
 },
 "nbformat": 4,
 "nbformat_minor": 5
}
